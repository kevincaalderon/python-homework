{
 "cells": [
  {
   "cell_type": "code",
   "execution_count": 1,
   "id": "a5eec1e2-b49d-453e-ad24-e78bb862ec6c",
   "metadata": {},
   "outputs": [],
   "source": [
    "#PyBank Homework"
   ]
  },
  {
   "cell_type": "code",
   "execution_count": 2,
   "id": "c5318e64-03a6-4477-81b6-881d222dbaa6",
   "metadata": {},
   "outputs": [
    {
     "name": "stdout",
     "output_type": "stream",
     "text": [
      "        Date  Profit/Losses\n",
      "0   Jan-2010         867884\n",
      "1   Feb-2010         984655\n",
      "2   Mar-2010         322013\n",
      "3   Apr-2010         -69417\n",
      "4   May-2010         310503\n",
      "5   Jun-2010         522857\n",
      "6   Jul-2010        1033096\n",
      "7   Aug-2010         604885\n",
      "8   Sep-2010        -216386\n",
      "9   Oct-2010         477532\n",
      "10  Nov-2010         893810\n",
      "11  Dec-2010         -80353\n",
      "12  Jan-2011         779806\n",
      "13  Feb-2011        -335203\n",
      "14  Mar-2011         697845\n",
      "15  Apr-2011         793163\n",
      "16  May-2011         485070\n",
      "17  Jun-2011         584122\n",
      "18  Jul-2011          62729\n",
      "19  Aug-2011         668179\n",
      "20  Sep-2011         899906\n",
      "21  Oct-2011         834719\n",
      "22  Nov-2011         132003\n",
      "23  Dec-2011         309978\n",
      "24  Jan-2012        -755566\n",
      "25  Feb-2012        1170593\n",
      "26  Mar-2012         252788\n",
      "27  Apr-2012        1151518\n",
      "28  May-2012         817256\n",
      "29  Jun-2012         570757\n",
      "30  Jul-2012         506702\n",
      "31  Aug-2012       -1022534\n",
      "32  Sep-2012         475062\n",
      "33  Oct-2012         779976\n",
      "34  Nov-2012         144175\n",
      "35  Dec-2012         542494\n",
      "36  Jan-2013         359333\n",
      "37  Feb-2013         321469\n",
      "38  Mar-2013          67780\n",
      "39  Apr-2013         471435\n",
      "40  May-2013         565603\n",
      "41  Jun-2013         872480\n",
      "42  Jul-2013         789480\n",
      "43  Aug-2013         999942\n",
      "44  Sep-2013       -1196225\n",
      "45  Oct-2013         268997\n",
      "46  Nov-2013        -687986\n",
      "47  Dec-2013        1150461\n",
      "48  Jan-2014         682458\n",
      "49  Feb-2014         617856\n",
      "50  Mar-2014         824098\n",
      "51  Apr-2014         581943\n",
      "52  May-2014         132864\n",
      "53  Jun-2014         448062\n",
      "54  Jul-2014         689161\n",
      "55  Aug-2014         800701\n",
      "56  Sep-2014        1166643\n",
      "57  Oct-2014         947333\n",
      "58  Nov-2014         578668\n",
      "59  Dec-2014         988505\n",
      "60  Jan-2015        1139715\n",
      "61  Feb-2015        1029471\n",
      "62  Mar-2015         687533\n",
      "63  Apr-2015        -524626\n",
      "64  May-2015         158620\n",
      "65  Jun-2015          87795\n",
      "66  Jul-2015         423389\n",
      "67  Aug-2015         840723\n",
      "68  Sep-2015         568529\n",
      "69  Oct-2015         332067\n",
      "70  Nov-2015         989499\n",
      "71  Dec-2015         778237\n",
      "72  Jan-2016         650000\n",
      "73  Feb-2016       -1100387\n",
      "74  Mar-2016        -174946\n",
      "75  Apr-2016         757143\n",
      "76  May-2016         445709\n",
      "77  Jun-2016         712961\n",
      "78  Jul-2016       -1163797\n",
      "79  Aug-2016         569899\n",
      "80  Sep-2016         768450\n",
      "81  Oct-2016         102685\n",
      "82  Nov-2016         795914\n",
      "83  Dec-2016          60988\n",
      "84  Jan-2017         138230\n",
      "85  Feb-2017         671099\n"
     ]
    }
   ],
   "source": [
    "#import .csv file\n",
    "import pandas as pd\n",
    "\n",
    "#defining df\n",
    "df = pd.read_csv(\"/Users/kevincalderon/Downloads/budget_data.csv\")\n",
    "\n",
    "#pybank is equal to df\n",
    "pybank_data = df\n",
    "\n",
    "#printing csv data\n",
    "print(df.to_string())"
   ]
  },
  {
   "cell_type": "code",
   "execution_count": 3,
   "id": "5097edad-c448-478f-a74f-e8f11544878a",
   "metadata": {},
   "outputs": [],
   "source": [
    "#Creating a new colum in the csv for the Profit/Losses Change\n",
    "pnl_change = df['Profit/Losses'].diff()\n",
    "pybank_data['Profit/Losses Change'] = pnl_change"
   ]
  },
  {
   "cell_type": "code",
   "execution_count": 4,
   "id": "5175c14a-84fc-4882-9012-63af306f91b2",
   "metadata": {},
   "outputs": [
    {
     "data": {
      "text/plain": [
       "86"
      ]
     },
     "execution_count": 4,
     "metadata": {},
     "output_type": "execute_result"
    }
   ],
   "source": [
    "#Number of months included in the dataset\n",
    "number_months = len(pybank_data)\n",
    "number_months"
   ]
  },
  {
   "cell_type": "code",
   "execution_count": 5,
   "id": "6cfeb0ac-6811-4090-88c8-7801c67c2c94",
   "metadata": {},
   "outputs": [
    {
     "data": {
      "text/plain": [
       "38382578"
      ]
     },
     "execution_count": 5,
     "metadata": {},
     "output_type": "execute_result"
    }
   ],
   "source": [
    "#Net total amount of Profit/Losses over the entire period.\n",
    "pnl = pybank_data['Profit/Losses'].sum()\n",
    "pnl"
   ]
  },
  {
   "cell_type": "code",
   "execution_count": 6,
   "id": "5fdb5219-6989-4bc2-b2c2-b6d3cc873372",
   "metadata": {},
   "outputs": [
    {
     "data": {
      "text/plain": [
       "-2315.12"
      ]
     },
     "execution_count": 6,
     "metadata": {},
     "output_type": "execute_result"
    }
   ],
   "source": [
    "#Average of the changes in Profit/Losses over the entire period.\n",
    "avg_change_pnl = round(pnl_change.mean(),2)\n",
    "avg_change_pnl"
   ]
  },
  {
   "cell_type": "code",
   "execution_count": 7,
   "id": "47d948d0-4f1a-4ea9-bae6-286c20e247d8",
   "metadata": {},
   "outputs": [
    {
     "data": {
      "text/plain": [
       "1926159.0"
      ]
     },
     "execution_count": 7,
     "metadata": {},
     "output_type": "execute_result"
    }
   ],
   "source": [
    "#Greatest increase in profits (date and amount) over the entire period.\n",
    "greatest_increase = pnl_change.max()\n",
    "greatest_increase"
   ]
  },
  {
   "cell_type": "code",
   "execution_count": 8,
   "id": "8d216bc7-9695-4f0f-a6e8-aa7d6e8625ff",
   "metadata": {},
   "outputs": [
    {
     "data": {
      "text/plain": [
       "-2196167.0"
      ]
     },
     "execution_count": 8,
     "metadata": {},
     "output_type": "execute_result"
    }
   ],
   "source": [
    "#Greatest decrease in losses (date and amount) over the entire period.\n",
    "greatest_decrease = pnl_change.min()\n",
    "greatest_decrease"
   ]
  },
  {
   "cell_type": "code",
   "execution_count": 9,
   "id": "4eb8ffd7-4dee-4626-b6ca-22f59a24fbda",
   "metadata": {},
   "outputs": [
    {
     "name": "stdout",
     "output_type": "stream",
     "text": [
      "Financial Analysis\n",
      "----------------------------------\n",
      "Total Months: 86\n",
      "Total: $38382578\n",
      "Average  Change: $-2315.12\n",
      "Greatest Increase in Profits: Feb-2012 ($1926159.0)\n",
      "Greatest Decrease in Profits: Sep-2013 ($-2196167.0)\n"
     ]
    }
   ],
   "source": [
    "#Print Resulting Analysis\n",
    "print(\"Financial Analysis\")\n",
    "print(\"----------------------------------\")\n",
    "print(f\"Total Months: {number_months}\")\n",
    "print(f\"Total: ${pnl}\")\n",
    "print(f\"Average  Change: ${avg_change_pnl}\")\n",
    "print(f\"Greatest Increase in Profits: Feb-2012 (${greatest_increase})\")\n",
    "print(f\"Greatest Decrease in Profits: Sep-2013 (${greatest_decrease})\")"
   ]
  },
  {
   "cell_type": "code",
   "execution_count": 10,
   "id": "7434d92d-d80f-456d-8fb0-6b1b9101cbe8",
   "metadata": {},
   "outputs": [
    {
     "data": {
      "text/html": [
       "<div>\n",
       "<style scoped>\n",
       "    .dataframe tbody tr th:only-of-type {\n",
       "        vertical-align: middle;\n",
       "    }\n",
       "\n",
       "    .dataframe tbody tr th {\n",
       "        vertical-align: top;\n",
       "    }\n",
       "\n",
       "    .dataframe thead th {\n",
       "        text-align: right;\n",
       "    }\n",
       "</style>\n",
       "<table border=\"1\" class=\"dataframe\">\n",
       "  <thead>\n",
       "    <tr style=\"text-align: right;\">\n",
       "      <th></th>\n",
       "      <th>Date</th>\n",
       "      <th>Profit/Losses</th>\n",
       "      <th>Profit/Losses Change</th>\n",
       "    </tr>\n",
       "  </thead>\n",
       "  <tbody>\n",
       "    <tr>\n",
       "      <th>0</th>\n",
       "      <td>Jan-2010</td>\n",
       "      <td>867884</td>\n",
       "      <td>NaN</td>\n",
       "    </tr>\n",
       "    <tr>\n",
       "      <th>1</th>\n",
       "      <td>Feb-2010</td>\n",
       "      <td>984655</td>\n",
       "      <td>116771.0</td>\n",
       "    </tr>\n",
       "    <tr>\n",
       "      <th>2</th>\n",
       "      <td>Mar-2010</td>\n",
       "      <td>322013</td>\n",
       "      <td>-662642.0</td>\n",
       "    </tr>\n",
       "    <tr>\n",
       "      <th>3</th>\n",
       "      <td>Apr-2010</td>\n",
       "      <td>-69417</td>\n",
       "      <td>-391430.0</td>\n",
       "    </tr>\n",
       "    <tr>\n",
       "      <th>4</th>\n",
       "      <td>May-2010</td>\n",
       "      <td>310503</td>\n",
       "      <td>379920.0</td>\n",
       "    </tr>\n",
       "    <tr>\n",
       "      <th>...</th>\n",
       "      <td>...</td>\n",
       "      <td>...</td>\n",
       "      <td>...</td>\n",
       "    </tr>\n",
       "    <tr>\n",
       "      <th>81</th>\n",
       "      <td>Oct-2016</td>\n",
       "      <td>102685</td>\n",
       "      <td>-665765.0</td>\n",
       "    </tr>\n",
       "    <tr>\n",
       "      <th>82</th>\n",
       "      <td>Nov-2016</td>\n",
       "      <td>795914</td>\n",
       "      <td>693229.0</td>\n",
       "    </tr>\n",
       "    <tr>\n",
       "      <th>83</th>\n",
       "      <td>Dec-2016</td>\n",
       "      <td>60988</td>\n",
       "      <td>-734926.0</td>\n",
       "    </tr>\n",
       "    <tr>\n",
       "      <th>84</th>\n",
       "      <td>Jan-2017</td>\n",
       "      <td>138230</td>\n",
       "      <td>77242.0</td>\n",
       "    </tr>\n",
       "    <tr>\n",
       "      <th>85</th>\n",
       "      <td>Feb-2017</td>\n",
       "      <td>671099</td>\n",
       "      <td>532869.0</td>\n",
       "    </tr>\n",
       "  </tbody>\n",
       "</table>\n",
       "<p>86 rows × 3 columns</p>\n",
       "</div>"
      ],
      "text/plain": [
       "        Date  Profit/Losses  Profit/Losses Change\n",
       "0   Jan-2010         867884                   NaN\n",
       "1   Feb-2010         984655              116771.0\n",
       "2   Mar-2010         322013             -662642.0\n",
       "3   Apr-2010         -69417             -391430.0\n",
       "4   May-2010         310503              379920.0\n",
       "..       ...            ...                   ...\n",
       "81  Oct-2016         102685             -665765.0\n",
       "82  Nov-2016         795914              693229.0\n",
       "83  Dec-2016          60988             -734926.0\n",
       "84  Jan-2017         138230               77242.0\n",
       "85  Feb-2017         671099              532869.0\n",
       "\n",
       "[86 rows x 3 columns]"
      ]
     },
     "execution_count": 10,
     "metadata": {},
     "output_type": "execute_result"
    }
   ],
   "source": [
    "pybank_data"
   ]
  }
 ],
 "metadata": {
  "kernelspec": {
   "display_name": "Python 3 (ipykernel)",
   "language": "python",
   "name": "python3"
  },
  "language_info": {
   "codemirror_mode": {
    "name": "ipython",
    "version": 3
   },
   "file_extension": ".py",
   "mimetype": "text/x-python",
   "name": "python",
   "nbconvert_exporter": "python",
   "pygments_lexer": "ipython3",
   "version": "3.9.7"
  }
 },
 "nbformat": 4,
 "nbformat_minor": 5
}
