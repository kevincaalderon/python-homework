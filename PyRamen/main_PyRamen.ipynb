{
 "cells": [
  {
   "cell_type": "code",
   "execution_count": 72,
   "id": "f2293f21-cc91-4bff-b2cd-94df46680832",
   "metadata": {},
   "outputs": [],
   "source": [
    "#PyRamen Homework\n",
    "\n",
    "# @TODO: Import libraries\n",
    "import csv\n",
    "from pathlib import Path\n",
    "\n",
    "# @TODO: Set file paths for menu_data.csv and sales_data.csv\n",
    "menu_filepath = Path('/Users/kevincalderon/Desktop/Fintech Boot Camp/Resources4Hw/menu_data.csv')\n",
    "sales_filepath = Path('/Users/kevincalderon/Desktop/Fintech Boot Camp/Resources4Hw/sales_data.csv')"
   ]
  },
  {
   "cell_type": "code",
   "execution_count": 73,
   "id": "d0ad4789-bd93-4c26-81ad-c218e3d931ff",
   "metadata": {},
   "outputs": [],
   "source": [
    "# @TODO: Initialize list objects to hold our menu and sales data\n",
    "menu = []\n",
    "sales = []\n",
    "report = {}\n",
    "row_count = 0"
   ]
  },
  {
   "cell_type": "code",
   "execution_count": 74,
   "id": "44133c8c-818b-429e-9859-86fec3933e42",
   "metadata": {},
   "outputs": [],
   "source": [
    "# @TODO: Read in the menu data into the menu list\n",
    "with open(menu_filepath, 'r') as csvfile:\n",
    "    csv_reader = csv.reader(csvfile, delimiter = ',')\n",
    "    header = next(csv_reader)\n",
    "    for row in csv_reader:\n",
    "        menu.append(row)"
   ]
  },
  {
   "cell_type": "code",
   "execution_count": 75,
   "id": "d3faba5e-7443-4975-87ba-f7ce6716c994",
   "metadata": {},
   "outputs": [],
   "source": [
    "# @TODO: Read in the sales data into the sales list\n",
    "with open(sales_filepath, 'r') as csvfile:\n",
    "    csv_reader = csv.reader(csvfile, delimiter = ',')\n",
    "    header = next(csv_reader)\n",
    "    for row in csv_reader:\n",
    "        sales.append(row)"
   ]
  },
  {
   "cell_type": "code",
   "execution_count": 76,
   "id": "85408af7-c279-4913-95fd-73fc3974f577",
   "metadata": {},
   "outputs": [],
   "source": [
    "# @TODO: Initialize dict object to hold our key-value pairs of items and metrics\n",
    "for sales_row in sales:\n",
    "    sales_item = sales_row[4]\n",
    "    quantity = sales_row[3]\n",
    "    \n",
    "    if sales_item not in report:\n",
    "        report[sales_item] = {\"01-count\": 0, \"02-revenue\": 0, \"03-cogs\": 0, \"04-profit\": 0}\n",
    "    else:\n",
    "        continue"
   ]
  },
  {
   "cell_type": "code",
   "execution_count": 77,
   "id": "48671b06-c90b-4980-a655-0c97c27e873a",
   "metadata": {},
   "outputs": [],
   "source": [
    "for sales_row in sales:\n",
    "    sales_item = sales_row[4]\n",
    "    quantity = sales_row[3]\n",
    "    \n",
    "    if sales_item in report:\n",
    "        report[sales_item][\"01-count\"] += int(quantity)"
   ]
  },
  {
   "cell_type": "code",
   "execution_count": 78,
   "id": "d1afefbc-1621-41c2-96d2-f4f52bc05858",
   "metadata": {},
   "outputs": [],
   "source": [
    "for sales_row in sales:\n",
    "    sales_item = sales_row[4]\n",
    "    quantity = sales_row[3]\n",
    "    \n",
    "    for menu_row in menu:\n",
    "        menu_item = menu_row[0]\n",
    "        menu_price = menu_row[3]\n",
    "        menu_cost = menu_row[4]\n",
    "        \n",
    "        if sales_item == menu_item:\n",
    "            report[menu_item]['02-revenue'] += (int(menu_price) * int(quantity))\n",
    "            report[menu_item]['03-cogs'] += (int(menu_cost) * int(quantity))  \n",
    "        elif sales_item != menu_item:\n",
    "            continue"
   ]
  },
  {
   "cell_type": "code",
   "execution_count": 79,
   "id": "8225b5f7-202d-4254-9fd8-017a29222783",
   "metadata": {},
   "outputs": [],
   "source": [
    "for item, valuedict in report.items():\n",
    "    for key in valuedict:\n",
    "        cogs = report[item]['03-cogs']\n",
    "        revenue = report[item]['02-revenue']\n",
    "        \n",
    "        if key == '04-profit':\n",
    "            report[item][key] = revenue - cogs\n",
    "        else:\n",
    "            continue"
   ]
  },
  {
   "cell_type": "code",
   "execution_count": 81,
   "id": "ed496d08-a067-4262-9179-67ac023895b1",
   "metadata": {},
   "outputs": [],
   "source": [
    "# @TODO: Write out report to a text file (won't appear on the command line output)\n",
    "output_path = Path('PyRamen.csv')\n",
    "\n",
    "with open(output_path, 'w') as file:\n",
    "    file.write('This is the financial report for PyRamen.\\n')\n",
    "    for key in report:\n",
    "        file.write(f\"{key} {report[key]} \\n\")"
   ]
  }
 ],
 "metadata": {
  "kernelspec": {
   "display_name": "Python 3 (ipykernel)",
   "language": "python",
   "name": "python3"
  },
  "language_info": {
   "codemirror_mode": {
    "name": "ipython",
    "version": 3
   },
   "file_extension": ".py",
   "mimetype": "text/x-python",
   "name": "python",
   "nbconvert_exporter": "python",
   "pygments_lexer": "ipython3",
   "version": "3.9.7"
  }
 },
 "nbformat": 4,
 "nbformat_minor": 5
}
